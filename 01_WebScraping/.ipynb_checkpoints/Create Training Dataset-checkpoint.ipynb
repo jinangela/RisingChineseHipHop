{
 "cells": [
  {
   "cell_type": "code",
   "execution_count": 17,
   "metadata": {
    "collapsed": true
   },
   "outputs": [],
   "source": [
    "#!/usr/bin/env python\n",
    "# -*- coding: utf-8 -*-\n",
    "import pandas as pd\n",
    "import re\n",
    "import jieba\n",
    "import string\n",
    "import csv"
   ]
  },
  {
   "cell_type": "code",
   "execution_count": 2,
   "metadata": {
    "collapsed": true
   },
   "outputs": [],
   "source": [
    "hiphop = pd.read_csv(\"hiphop.csv\")"
   ]
  },
  {
   "cell_type": "code",
   "execution_count": 3,
   "metadata": {
    "collapsed": false
   },
   "outputs": [
    {
     "data": {
      "text/html": [
       "<div>\n",
       "<table border=\"1\" class=\"dataframe\">\n",
       "  <thead>\n",
       "    <tr style=\"text-align: right;\">\n",
       "      <th></th>\n",
       "      <th>singer</th>\n",
       "      <th>episode</th>\n",
       "      <th>lyrics</th>\n",
       "      <th>title</th>\n",
       "    </tr>\n",
       "  </thead>\n",
       "  <tbody>\n",
       "    <tr>\n",
       "      <th>0</th>\n",
       "      <td>Bigdog大狗</td>\n",
       "      <td>中国有嘻哈 第1期</td>\n",
       "      <td>这个世上本没有路;走的人多了也就成了路;经过那些迷雾;穿过前人栽下的树;于是进入 认输 愤怒...</td>\n",
       "      <td>大狗(海选作品)</td>\n",
       "    </tr>\n",
       "    <tr>\n",
       "      <th>1</th>\n",
       "      <td>辉子</td>\n",
       "      <td>中国有嘻哈 第7期</td>\n",
       "      <td>制作人和战队选手带着Beat离开 ;充满期待 ;U盘里储存未知的节拍;魔鬼剪辑黑屏的秘密 ;...</td>\n",
       "      <td>中国有嘻哈 EP07 RAP02</td>\n",
       "    </tr>\n",
       "    <tr>\n",
       "      <th>2</th>\n",
       "      <td>鬼卞</td>\n",
       "      <td>中国有嘻哈 第3期</td>\n",
       "      <td>我的背影如飞掀起了大雾;背后记下一击毙命的tattoo;百年屈辱的故事等我插足;悄无声息没有...</td>\n",
       "      <td>侠客</td>\n",
       "    </tr>\n",
       "    <tr>\n",
       "      <th>3</th>\n",
       "      <td>吴亦凡战队</td>\n",
       "      <td>中国有嘻哈 第7期</td>\n",
       "      <td>演唱：HipHopMan欧阳靖&amp;PG One&amp;万磁王&amp;BrAnT.B小白&amp;TT OBi&amp;M0...</td>\n",
       "      <td>How Do</td>\n",
       "    </tr>\n",
       "    <tr>\n",
       "      <th>4</th>\n",
       "      <td>潘玮柏战队</td>\n",
       "      <td>中国有嘻哈 第7期</td>\n",
       "      <td>从过去到现在;从现在到未来;Let’s get it;这首歌我们要献给;从海选;到现在的全国...</td>\n",
       "      <td>700</td>\n",
       "    </tr>\n",
       "  </tbody>\n",
       "</table>\n",
       "</div>"
      ],
      "text/plain": [
       "     singer    episode                                             lyrics  \\\n",
       "0  Bigdog大狗  中国有嘻哈 第1期  这个世上本没有路;走的人多了也就成了路;经过那些迷雾;穿过前人栽下的树;于是进入 认输 愤怒...   \n",
       "1        辉子  中国有嘻哈 第7期  制作人和战队选手带着Beat离开 ;充满期待 ;U盘里储存未知的节拍;魔鬼剪辑黑屏的秘密 ;...   \n",
       "2        鬼卞  中国有嘻哈 第3期  我的背影如飞掀起了大雾;背后记下一击毙命的tattoo;百年屈辱的故事等我插足;悄无声息没有...   \n",
       "3     吴亦凡战队  中国有嘻哈 第7期  演唱：HipHopMan欧阳靖&PG One&万磁王&BrAnT.B小白&TT OBi&M0...   \n",
       "4     潘玮柏战队  中国有嘻哈 第7期  从过去到现在;从现在到未来;Let’s get it;这首歌我们要献给;从海选;到现在的全国...   \n",
       "\n",
       "              title  \n",
       "0          大狗(海选作品)  \n",
       "1  中国有嘻哈 EP07 RAP02  \n",
       "2                侠客  \n",
       "3            How Do  \n",
       "4               700  "
      ]
     },
     "execution_count": 3,
     "metadata": {},
     "output_type": "execute_result"
    }
   ],
   "source": [
    "hiphop.head()"
   ]
  },
  {
   "cell_type": "code",
   "execution_count": 8,
   "metadata": {
    "collapsed": false
   },
   "outputs": [],
   "source": [
    "def strip_info(lyrics):\n",
    "    sentences = [x.strip() for x in lyrics.split(';')]\n",
    "    return ';'.join([sentence for sentence in sentences if re.search(u'\\xef\\xbc\\x9a', sentence) is None])"
   ]
  },
  {
   "cell_type": "code",
   "execution_count": 9,
   "metadata": {
    "collapsed": false
   },
   "outputs": [],
   "source": [
    "hiphop['cleaned_lyrics'] = hiphop['lyrics'].apply(lambda x: strip_info(x))"
   ]
  },
  {
   "cell_type": "code",
   "execution_count": 19,
   "metadata": {
    "collapsed": false
   },
   "outputs": [
    {
     "data": {
      "text/html": [
       "<div>\n",
       "<table border=\"1\" class=\"dataframe\">\n",
       "  <thead>\n",
       "    <tr style=\"text-align: right;\">\n",
       "      <th></th>\n",
       "      <th>singer</th>\n",
       "      <th>episode</th>\n",
       "      <th>lyrics</th>\n",
       "      <th>title</th>\n",
       "      <th>cleaned_lyrics</th>\n",
       "    </tr>\n",
       "  </thead>\n",
       "  <tbody>\n",
       "    <tr>\n",
       "      <th>0</th>\n",
       "      <td>Bigdog大狗</td>\n",
       "      <td>中国有嘻哈 第1期</td>\n",
       "      <td>这个世上本没有路;走的人多了也就成了路;经过那些迷雾;穿过前人栽下的树;于是进入 认输 愤怒...</td>\n",
       "      <td>大狗(海选作品)</td>\n",
       "      <td>这个世上本没有路;走的人多了也就成了路;经过那些迷雾;穿过前人栽下的树;于是进入 认输 愤怒...</td>\n",
       "    </tr>\n",
       "    <tr>\n",
       "      <th>1</th>\n",
       "      <td>辉子</td>\n",
       "      <td>中国有嘻哈 第7期</td>\n",
       "      <td>制作人和战队选手带着Beat离开 ;充满期待 ;U盘里储存未知的节拍;魔鬼剪辑黑屏的秘密 ;...</td>\n",
       "      <td>中国有嘻哈 EP07 RAP02</td>\n",
       "      <td>制作人和战队选手带着Beat离开;充满期待;U盘里储存未知的节拍;魔鬼剪辑黑屏的秘密;后期地...</td>\n",
       "    </tr>\n",
       "    <tr>\n",
       "      <th>2</th>\n",
       "      <td>鬼卞</td>\n",
       "      <td>中国有嘻哈 第3期</td>\n",
       "      <td>我的背影如飞掀起了大雾;背后记下一击毙命的tattoo;百年屈辱的故事等我插足;悄无声息没有...</td>\n",
       "      <td>侠客</td>\n",
       "      <td>我的背影如飞掀起了大雾;背后记下一击毙命的tattoo;百年屈辱的故事等我插足;悄无声息没有...</td>\n",
       "    </tr>\n",
       "    <tr>\n",
       "      <th>3</th>\n",
       "      <td>吴亦凡战队</td>\n",
       "      <td>中国有嘻哈 第7期</td>\n",
       "      <td>演唱：HipHopMan欧阳靖&amp;PG One&amp;万磁王&amp;BrAnT.B小白&amp;TT OBi&amp;M0...</td>\n",
       "      <td>How Do</td>\n",
       "      <td>Put your hands up;Put your hands up;Put your h...</td>\n",
       "    </tr>\n",
       "    <tr>\n",
       "      <th>4</th>\n",
       "      <td>潘玮柏战队</td>\n",
       "      <td>中国有嘻哈 第7期</td>\n",
       "      <td>从过去到现在;从现在到未来;Let’s get it;这首歌我们要献给;从海选;到现在的全国...</td>\n",
       "      <td>700</td>\n",
       "      <td>从过去到现在;从现在到未来;Let’s get it;这首歌我们要献给;从海选;到现在的全国...</td>\n",
       "    </tr>\n",
       "  </tbody>\n",
       "</table>\n",
       "</div>"
      ],
      "text/plain": [
       "     singer    episode                                             lyrics  \\\n",
       "0  Bigdog大狗  中国有嘻哈 第1期  这个世上本没有路;走的人多了也就成了路;经过那些迷雾;穿过前人栽下的树;于是进入 认输 愤怒...   \n",
       "1        辉子  中国有嘻哈 第7期  制作人和战队选手带着Beat离开 ;充满期待 ;U盘里储存未知的节拍;魔鬼剪辑黑屏的秘密 ;...   \n",
       "2        鬼卞  中国有嘻哈 第3期  我的背影如飞掀起了大雾;背后记下一击毙命的tattoo;百年屈辱的故事等我插足;悄无声息没有...   \n",
       "3     吴亦凡战队  中国有嘻哈 第7期  演唱：HipHopMan欧阳靖&PG One&万磁王&BrAnT.B小白&TT OBi&M0...   \n",
       "4     潘玮柏战队  中国有嘻哈 第7期  从过去到现在;从现在到未来;Let’s get it;这首歌我们要献给;从海选;到现在的全国...   \n",
       "\n",
       "              title                                     cleaned_lyrics  \n",
       "0          大狗(海选作品)  这个世上本没有路;走的人多了也就成了路;经过那些迷雾;穿过前人栽下的树;于是进入 认输 愤怒...  \n",
       "1  中国有嘻哈 EP07 RAP02  制作人和战队选手带着Beat离开;充满期待;U盘里储存未知的节拍;魔鬼剪辑黑屏的秘密;后期地...  \n",
       "2                侠客  我的背影如飞掀起了大雾;背后记下一击毙命的tattoo;百年屈辱的故事等我插足;悄无声息没有...  \n",
       "3            How Do  Put your hands up;Put your hands up;Put your h...  \n",
       "4               700  从过去到现在;从现在到未来;Let’s get it;这首歌我们要献给;从海选;到现在的全国...  "
      ]
     },
     "execution_count": 19,
     "metadata": {},
     "output_type": "execute_result"
    }
   ],
   "source": [
    "hiphop.head()"
   ]
  },
  {
   "cell_type": "code",
   "execution_count": 11,
   "metadata": {
    "collapsed": false
   },
   "outputs": [
    {
     "data": {
      "text/plain": [
       "(152, 5)"
      ]
     },
     "execution_count": 11,
     "metadata": {},
     "output_type": "execute_result"
    }
   ],
   "source": [
    "hiphop.shape"
   ]
  },
  {
   "cell_type": "code",
   "execution_count": 22,
   "metadata": {
    "collapsed": false
   },
   "outputs": [],
   "source": [
    "with open('lyrics.txt', 'w') as fout:\n",
    "    for item in hiphop['cleaned_lyrics'].tolist():\n",
    "        fout.write('%s\\n' % item)"
   ]
  },
  {
   "cell_type": "code",
   "execution_count": 2,
   "metadata": {
    "collapsed": false
   },
   "outputs": [],
   "source": [
    "with open('lyrics.txt', 'r') as fin:\n",
    "    lyrics = fin.readlines()"
   ]
  },
  {
   "cell_type": "markdown",
   "metadata": {},
   "source": [
    "## Get Vocabulary"
   ]
  },
  {
   "cell_type": "code",
   "execution_count": 14,
   "metadata": {
    "collapsed": true
   },
   "outputs": [],
   "source": [
    "def myTokenizer(lyrics):\n",
    "    return [token for token in jieba.cut(lyrics) if token not in string.punctuation+\" \" and token != '\\n']"
   ]
  },
  {
   "cell_type": "code",
   "execution_count": 26,
   "metadata": {
    "collapsed": false
   },
   "outputs": [],
   "source": [
    "vocab = [myTokenizer(x) for x in lyrics]"
   ]
  },
  {
   "cell_type": "code",
   "execution_count": 30,
   "metadata": {
    "collapsed": false
   },
   "outputs": [],
   "source": [
    "vocab = [item for sublist in vocab for item in sublist]"
   ]
  },
  {
   "cell_type": "code",
   "execution_count": 31,
   "metadata": {
    "collapsed": false
   },
   "outputs": [
    {
     "data": {
      "text/plain": [
       "48164"
      ]
     },
     "execution_count": 31,
     "metadata": {},
     "output_type": "execute_result"
    }
   ],
   "source": [
    "len(vocab)"
   ]
  },
  {
   "cell_type": "code",
   "execution_count": 32,
   "metadata": {
    "collapsed": true
   },
   "outputs": [],
   "source": [
    "vocab = list(set(vocab))"
   ]
  },
  {
   "cell_type": "code",
   "execution_count": 33,
   "metadata": {
    "collapsed": false
   },
   "outputs": [
    {
     "data": {
      "text/plain": [
       "9828"
      ]
     },
     "execution_count": 33,
     "metadata": {},
     "output_type": "execute_result"
    }
   ],
   "source": [
    "len(vocab)"
   ]
  },
  {
   "cell_type": "code",
   "execution_count": 38,
   "metadata": {
    "collapsed": false
   },
   "outputs": [],
   "source": [
    "with open('vocab.txt', 'w') as fout:\n",
    "    for item in vocab:\n",
    "        fout.write('%s\\n' % item.encode('utf-8'))"
   ]
  },
  {
   "cell_type": "code",
   "execution_count": 24,
   "metadata": {
    "collapsed": false
   },
   "outputs": [],
   "source": [
    "# with open('../zh/zh.tsv') as tsvfile:\n",
    "#     reader = csv.DictReader(tsvfile, dialect='excel-tab')"
   ]
  },
  {
   "cell_type": "code",
   "execution_count": 22,
   "metadata": {
    "collapsed": true
   },
   "outputs": [],
   "source": [
    "zh_word2vec = pd.read_csv('../zh/zh.tsv', sep='\\t')"
   ]
  }
 ],
 "metadata": {
  "anaconda-cloud": {},
  "kernelspec": {
   "display_name": "Python 2",
   "language": "python",
   "name": "python2"
  },
  "language_info": {
   "codemirror_mode": {
    "name": "ipython",
    "version": 2
   },
   "file_extension": ".py",
   "mimetype": "text/x-python",
   "name": "python",
   "nbconvert_exporter": "python",
   "pygments_lexer": "ipython2",
   "version": "2.7.13"
  }
 },
 "nbformat": 4,
 "nbformat_minor": 1
}
