{
 "cells": [
  {
   "cell_type": "code",
   "execution_count": 1,
   "metadata": {
    "collapsed": false
   },
   "outputs": [
    {
     "data": {
      "text/plain": [
       "'Darwin'"
      ]
     },
     "execution_count": 1,
     "metadata": {},
     "output_type": "execute_result"
    }
   ],
   "source": [
    "import numpy as np\n",
    "import pandas as pd\n",
    "import jieba\n",
    "import string\n",
    "from fastText import load_model\n",
    "import platform\n",
    "platform.system()"
   ]
  },
  {
   "cell_type": "code",
   "execution_count": 2,
   "metadata": {
    "collapsed": true
   },
   "outputs": [],
   "source": [
    "cwe = np.load(\"zh.bin.syn0.npy\")"
   ]
  },
  {
   "cell_type": "code",
   "execution_count": 4,
   "metadata": {
    "collapsed": false
   },
   "outputs": [
    {
     "data": {
      "text/plain": [
       "(50101, 300)"
      ]
     },
     "execution_count": 4,
     "metadata": {},
     "output_type": "execute_result"
    }
   ],
   "source": [
    "cwe.shape"
   ]
  },
  {
   "cell_type": "code",
   "execution_count": 5,
   "metadata": {
    "collapsed": true
   },
   "outputs": [],
   "source": [
    "cwe_neg = np.load(\"zh.bin.syn1neg.npy\")"
   ]
  },
  {
   "cell_type": "code",
   "execution_count": 6,
   "metadata": {
    "collapsed": false
   },
   "outputs": [
    {
     "data": {
      "text/plain": [
       "(50101, 300)"
      ]
     },
     "execution_count": 6,
     "metadata": {},
     "output_type": "execute_result"
    }
   ],
   "source": [
    "cwe_neg.shape"
   ]
  },
  {
   "cell_type": "markdown",
   "metadata": {},
   "source": [
    "# Word Embedding Matrix Lookup (cross platform)\n",
    "Reference: [https://github.com/facebookresearch/fastText/tree/master/python](https://github.com/facebookresearch/fastText/tree/master/python)"
   ]
  },
  {
   "cell_type": "code",
   "execution_count": 2,
   "metadata": {
    "collapsed": false
   },
   "outputs": [],
   "source": [
    "if platform.system() == 'Windows':\n",
    "    with open(\"zh/wiki.zh.vec\", \"r\", encoding='utf-8') as fin:\n",
    "        words = fin.readlines()\n",
    "elif platform.system() == 'Darwin':  # Mac OSX\n",
    "    with open(\"zh/wiki.zh.vec\", \"r\") as fin:\n",
    "        words = fin.readlines()"
   ]
  },
  {
   "cell_type": "code",
   "execution_count": 3,
   "metadata": {
    "collapsed": false
   },
   "outputs": [
    {
     "data": {
      "text/plain": [
       "332648"
      ]
     },
     "execution_count": 3,
     "metadata": {},
     "output_type": "execute_result"
    }
   ],
   "source": [
    "len(words)"
   ]
  },
  {
   "cell_type": "code",
   "execution_count": 4,
   "metadata": {
    "collapsed": false
   },
   "outputs": [],
   "source": [
    "if platform.system() == 'Windows':\n",
    "    wiki_vocab = [x.split(' ')[0] for x in words[1:]]\n",
    "elif platform.system() == 'Darwin':\n",
    "    wiki_vocab = [x.split(' ')[0].decode('utf-8') for x in words[1:]]"
   ]
  },
  {
   "cell_type": "code",
   "execution_count": 5,
   "metadata": {
    "collapsed": false
   },
   "outputs": [
    {
     "data": {
      "text/plain": [
       "332647"
      ]
     },
     "execution_count": 5,
     "metadata": {},
     "output_type": "execute_result"
    }
   ],
   "source": [
    "len(wiki_vocab)"
   ]
  },
  {
   "cell_type": "code",
   "execution_count": 6,
   "metadata": {
    "collapsed": false
   },
   "outputs": [
    {
     "name": "stdout",
     "output_type": "stream",
     "text": [
      "日本\n"
     ]
    }
   ],
   "source": [
    "print(wiki_vocab[100])"
   ]
  },
  {
   "cell_type": "code",
   "execution_count": null,
   "metadata": {
    "collapsed": false
   },
   "outputs": [],
   "source": [
    "# wiki_embeddings = np.array([x.strip().split(' ')[1:] for x in words[1:]])  # will probably run out of memory"
   ]
  },
  {
   "cell_type": "code",
   "execution_count": 8,
   "metadata": {
    "collapsed": true
   },
   "outputs": [],
   "source": [
    "def read_vocab(file_path):\n",
    "    if platform.system() == 'Windows':\n",
    "        with open(file_path, 'r', encoding='utf-8') as fin:\n",
    "            vocab = [x.strip() for x in fin.readlines()]\n",
    "            vocab = [x for x in vocab if x != '']\n",
    "    elif platform.system() == 'Darwin':\n",
    "        with open(file_path, 'r') as fin:\n",
    "            vocab = [x.strip() for x in fin.readlines()]\n",
    "            vocab = [x.decode('utf-8') for x in vocab if x != '']\n",
    "    return vocab"
   ]
  },
  {
   "cell_type": "code",
   "execution_count": 9,
   "metadata": {
    "collapsed": false
   },
   "outputs": [],
   "source": [
    "vocab = read_vocab('../01_WebScraping/vocab.txt')"
   ]
  },
  {
   "cell_type": "code",
   "execution_count": 10,
   "metadata": {
    "collapsed": false
   },
   "outputs": [
    {
     "data": {
      "text/plain": [
       "9827"
      ]
     },
     "execution_count": 10,
     "metadata": {},
     "output_type": "execute_result"
    }
   ],
   "source": [
    "len(vocab)"
   ]
  },
  {
   "cell_type": "code",
   "execution_count": 11,
   "metadata": {
    "collapsed": false
   },
   "outputs": [
    {
     "name": "stdout",
     "output_type": "stream",
     "text": [
      "沉静\n"
     ]
    }
   ],
   "source": [
    "print(vocab[0])"
   ]
  },
  {
   "cell_type": "code",
   "execution_count": 2,
   "metadata": {
    "collapsed": true
   },
   "outputs": [],
   "source": [
    "def custom_tokenizer(text):\n",
    "    return [token for token in jieba.cut(text) if token not in string.punctuation+\" \" and token != '\\n']"
   ]
  },
  {
   "cell_type": "code",
   "execution_count": 3,
   "metadata": {
    "collapsed": true
   },
   "outputs": [],
   "source": [
    "def read_lyrics(file_path):\n",
    "    if platform.system() == 'Windows':\n",
    "        lyrics = [line.strip() for line in open(file_path, 'r', encoding='utf-8').readlines()]\n",
    "        lyrics = [custom_tokenizer(text) for text in lyrics]\n",
    "    elif platform.system() == 'Darwin':\n",
    "        lyrics = [line.strip() for line in open(file_path, 'r').readlines()]\n",
    "        lyrics = [custom_tokenizer(text) for text in lyrics]\n",
    "    return lyrics"
   ]
  },
  {
   "cell_type": "code",
   "execution_count": 4,
   "metadata": {
    "collapsed": false
   },
   "outputs": [
    {
     "name": "stderr",
     "output_type": "stream",
     "text": [
      "Building prefix dict from the default dictionary ...\n",
      "DEBUG:jieba:Building prefix dict from the default dictionary ...\n",
      "Dumping model to file cache /var/folders/45/9s5cv4kn143fggkxy4bdc89c0000gn/T/jieba.cache\n",
      "DEBUG:jieba:Dumping model to file cache /var/folders/45/9s5cv4kn143fggkxy4bdc89c0000gn/T/jieba.cache\n",
      "Loading model cost 3.568 seconds.\n",
      "DEBUG:jieba:Loading model cost 3.568 seconds.\n",
      "Prefix dict has been built succesfully.\n",
      "DEBUG:jieba:Prefix dict has been built succesfully.\n"
     ]
    }
   ],
   "source": [
    "lyrics = read_lyrics('../01_WebScraping/lyrics.txt')"
   ]
  },
  {
   "cell_type": "code",
   "execution_count": 5,
   "metadata": {
    "collapsed": false,
    "scrolled": true
   },
   "outputs": [
    {
     "name": "stdout",
     "output_type": "stream",
     "text": [
      "82\n",
      "210\n",
      "161\n"
     ]
    }
   ],
   "source": [
    "for item in lyrics[:3]:\n",
    "    print(len(item))"
   ]
  },
  {
   "cell_type": "markdown",
   "metadata": {},
   "source": [
    "# Token look up"
   ]
  },
  {
   "cell_type": "code",
   "execution_count": 15,
   "metadata": {
    "collapsed": true
   },
   "outputs": [],
   "source": [
    "def token_lookup(token, vocab, word_embedding):\n",
    "    try:\n",
    "        return [float(x) for x in word_embedding[vocab.index(token)+1].strip().split(' ')[1:]]\n",
    "    except ValueError:\n",
    "        print('Token not in vocabulary!')\n",
    "        # See https://github.com/facebookresearch/fastText#obtaining-word-vectors-for-out-of-vocabulary-words for more details\n",
    "        return ''"
   ]
  },
  {
   "cell_type": "code",
   "execution_count": 16,
   "metadata": {
    "collapsed": false
   },
   "outputs": [
    {
     "data": {
      "text/plain": [
       "300"
      ]
     },
     "execution_count": 16,
     "metadata": {},
     "output_type": "execute_result"
    }
   ],
   "source": [
    "len(token_lookup(vocab[5], wiki_vocab, words))"
   ]
  },
  {
   "cell_type": "code",
   "execution_count": 12,
   "metadata": {
    "collapsed": true
   },
   "outputs": [],
   "source": [
    "# Skipgram model\n",
    "model = load_model('zh/wiki.zh.bin')"
   ]
  },
  {
   "cell_type": "code",
   "execution_count": 13,
   "metadata": {
    "collapsed": false
   },
   "outputs": [
    {
     "name": "stdout",
     "output_type": "stream",
     "text": [
      "[-0.14655262 -0.35390663  0.2001343  -0.088716    0.09892082 -0.02019173\n",
      " -0.2750019  -0.03976827  0.10884193 -0.1401302  -0.3022368  -0.32495514\n",
      "  0.043915    0.08580057  0.42206717 -0.2760704   0.15125434 -0.11696516\n",
      "  0.2907221  -0.41516507 -0.08458394  0.20616367  0.12262227  0.14075808\n",
      "  0.06585976 -0.11330824 -0.61613953 -0.19981228  0.11573618  0.26924527\n",
      " -0.3895331   0.02170827  0.18145365  0.395527    0.08334675  0.24473996\n",
      " -0.06434914  0.08435744  0.50620776 -0.02277536 -0.00557652  0.33351102\n",
      " -0.2400871   0.17134102 -0.12819333  0.14156206 -0.42642173 -0.1798166\n",
      " -0.21311565 -0.11199573  0.00104835 -0.38445362 -0.01106974 -0.33570626\n",
      " -0.21296307  0.0680915  -0.44446182 -0.14636514  0.46745524  0.06082931\n",
      " -0.28635907 -0.03316678  0.2592      0.18856986 -0.43816504 -0.4466467\n",
      "  0.12617154 -0.04868822  0.108766   -0.20478442 -0.10747581  0.06855971\n",
      " -0.30118525 -0.25657704  0.30651236  0.04430697 -0.01705025 -0.0157372\n",
      "  0.19639769  0.08805114 -0.0461695  -0.06703023 -0.2674256  -0.03285059\n",
      "  0.08548329  0.12045264  0.17362034  0.31084612 -0.31910074  0.34140414\n",
      " -0.08968592  0.07559554  0.09968911 -0.48473364 -0.25751284 -0.00953649\n",
      "  0.00839088  0.04435866  0.11710433 -0.22676761  0.5427713   0.31060806\n",
      "  0.19564052 -0.3576577   0.24674469  0.2300102   0.40824872 -0.24877344\n",
      "  0.01663901  0.02857488  0.20266429  0.15784426 -0.17119773 -0.11504076\n",
      "  0.03080359  0.23866852 -0.07498983 -0.05040329 -0.17931864  0.16625912\n",
      "  0.3130703  -0.17618318 -0.05122055 -0.13780023 -0.21098304  0.06072849\n",
      " -0.30242273 -0.23401342 -0.20608139  0.14441311  0.39351872  0.13634078\n",
      "  0.08258075  0.00311913  0.21915966 -0.09786586  0.32642812 -0.00982304\n",
      "  0.13138938  0.12029389  0.14814873  0.19777969  0.23355633 -0.05574047\n",
      " -0.13006847 -0.02597855  0.01528881  0.03412588 -0.4059372   0.09839017\n",
      "  0.53387964  0.45563057  0.14328893  0.31464958 -0.22971818  0.15049107\n",
      "  0.3150642   0.22481558 -0.22790954  0.01775519 -0.03877589  0.18890163\n",
      "  0.01696112  0.185214    0.04451146 -0.25976634  0.15178318 -0.08354668\n",
      " -0.36711276  0.10824866 -0.24559262  0.33965445  0.25061423  0.03100473\n",
      " -0.08850259 -0.13342746 -0.04891464 -0.19559847 -0.29224038  0.1646171\n",
      "  0.25667882 -0.0217366  -0.06901122 -0.1340282  -0.26074338  0.21299784\n",
      "  0.31486487 -0.5929036   0.10695685 -0.13199429 -0.18930711 -0.36336178\n",
      "  0.36672163 -0.14042579  0.04891477 -0.1846293   0.4041721   0.3192276\n",
      "  0.14312859  0.05377795 -0.06832379 -0.15980618 -0.8025705   0.4732779\n",
      " -0.5128077  -0.443367    0.30709043  0.08871649  0.295813    0.38184056\n",
      "  0.01831521 -0.23647028  0.16837025  0.15282352 -0.91185814  0.47601834\n",
      " -0.17704484 -0.34557873 -0.0816064  -0.06583609  0.14309128 -0.08987979\n",
      " -0.29831874  0.7189035  -0.11266916  0.16693427 -0.28624985 -0.1407417\n",
      "  0.28163213 -0.1787695  -0.03603827 -0.26539457 -0.09934101  0.2891293\n",
      " -0.11557259 -0.1779972  -0.2360257  -0.7485321  -0.17308109  0.05163551\n",
      "  0.5249286   0.22526932  0.06980544  0.57331944  0.26239055 -0.14127034\n",
      "  0.00150762  0.41855797 -0.06134756 -0.5635073  -0.2721705  -0.29788944\n",
      "  0.31639448  0.15028329  0.11493225  0.374487    0.3762261   0.28947124\n",
      " -0.44703546 -0.19744028 -0.47030556  0.51302874  0.00289108  0.47644964\n",
      "  0.7309806  -0.37629992  0.69442225  0.8639744   0.573298   -0.17840034\n",
      " -0.87761366  0.08463893  0.4910702   0.3031883  -0.05262533  0.1046902\n",
      "  1.0088271  -0.18883938 -0.04057283  0.21932133 -0.37799242  0.59976625\n",
      "  0.16482222  0.85451394  0.85500175 -0.41057125 -0.95337665 -0.06320543\n",
      " -0.49227154 -0.4092678  -0.42799434  0.58081526  0.17511679  0.5143438\n",
      " -0.79026014  0.6397961   0.84664154  0.70965827  0.56501585  0.13251881]\n"
     ]
    }
   ],
   "source": [
    "print(model.get_word_vector(vocab[0]))"
   ]
  }
 ],
 "metadata": {
  "anaconda-cloud": {},
  "kernelspec": {
   "display_name": "Python 2",
   "language": "python",
   "name": "python2"
  },
  "language_info": {
   "codemirror_mode": {
    "name": "ipython",
    "version": 2
   },
   "file_extension": ".py",
   "mimetype": "text/x-python",
   "name": "python",
   "nbconvert_exporter": "python",
   "pygments_lexer": "ipython2",
   "version": "2.7.13"
  }
 },
 "nbformat": 4,
 "nbformat_minor": 2
}
